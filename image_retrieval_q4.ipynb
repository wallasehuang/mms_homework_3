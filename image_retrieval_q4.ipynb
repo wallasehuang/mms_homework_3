{
 "cells": [
  {
   "cell_type": "code",
   "execution_count": 1,
   "metadata": {
    "collapsed": true
   },
   "outputs": [],
   "source": [
    "from PIL import Image\n",
    "from numpy import array\n",
    "import sift\n",
    "from pylab import *\n",
    "import os\n",
    "import csv\n",
    "from sklearn.cluster import KMeans"
   ]
  },
  {
   "cell_type": "code",
   "execution_count": 15,
   "metadata": {
    "collapsed": true
   },
   "outputs": [],
   "source": [
    "f = open('kmean_center.csv','r')\n",
    "k_center = list()\n",
    "for row in csv.reader(f):\n",
    "    #data_arr = np.array([float(i) for i in row])\n",
    "    data_arr = [float(i) for i in row]\n",
    "    k_center.append(data_arr)\n",
    "f.close()\n",
    "k_center = np.array(k_center)\n",
    "\n",
    "kmeans = KMeans(n_clusters=128, random_state=0,init=k_center,n_init=1).fit(k_center)"
   ]
  },
  {
   "cell_type": "code",
   "execution_count": 11,
   "metadata": {
    "collapsed": false
   },
   "outputs": [
    {
     "name": "stdout",
     "output_type": "stream",
     "text": [
      "[60, 74, 21, 76, 125, 22, 25, 95, 52, 47]\n"
     ]
    }
   ],
   "source": [
    "stop_word_list = list()\n",
    "f = open(\"stop_word_list.csv\",'r')\n",
    "for index in csv.reader(f):\n",
    "    stop_word_list.append(int(index[0]))\n",
    "f.close\n",
    "print stop_word_list"
   ]
  },
  {
   "cell_type": "code",
   "execution_count": 17,
   "metadata": {
    "collapsed": false
   },
   "outputs": [],
   "source": [
    "DATASET_SIFT ='dataset_sift_update'\n",
    "sift_data = list()\n",
    "\n",
    "for filename in os.listdir(DATASET_SIFT):\n",
    "    \n",
    "    f = loadtxt(DATASET_SIFT+'/'+filename)\n",
    "\n",
    "    if len(f.shape) <= 1:\n",
    "        continue\n",
    "        \n",
    "    l1,d1 = sift.read_features_from_file(DATASET_SIFT+'/'+filename)\n",
    "    \n",
    "    img_vector = kmeans.predict(d1)\n",
    "    x = [0]*128\n",
    "    for num in img_vector:\n",
    "        if not(num in stop_word_list):\n",
    "            x[num] = x[num]+1\n",
    "    img_row = [filename,','.join(str(i) for i in x)]\n",
    "    sift_data.append(img_row)\n",
    "    f = open(\"sift_update_with_stop_word.csv\",\"w\")\n",
    "    w = csv.writer(f)\n",
    "    w.writerows(sift_data)\n",
    "    f.close()\n",
    "        "
   ]
  },
  {
   "cell_type": "code",
   "execution_count": 20,
   "metadata": {
    "collapsed": true
   },
   "outputs": [],
   "source": [
    "def vector_distance(arr1,arr2):\n",
    "    if len(arr1) != len(arr2):\n",
    "        return None\n",
    "    sum,sum_arr1,sum_arr2 = 0,0,0\n",
    "    \n",
    "    for i in xrange(len(arr1)):\n",
    "        sum += arr1[i]*arr2[i]\n",
    "        sum_arr1 += arr1[i]**2\n",
    "        sum_arr2 += arr2[i]**2\n",
    "    \n",
    "    sum_arr1 = sum_arr1**0.5\n",
    "    sum_arr2 = sum_arr2**0.5\n",
    "        \n",
    "    return sum/(sum_arr1*sum_arr2)"
   ]
  },
  {
   "cell_type": "code",
   "execution_count": 23,
   "metadata": {
    "collapsed": false
   },
   "outputs": [
    {
     "name": "stdout",
     "output_type": "stream",
     "text": [
      "processed tmp.pgm to q_img.sift\n",
      "[('ukbench00000.sift', 0.9999999999999999), ('ukbench00660.sift', 0.6155607992531347), ('ukbench00154.sift', 0.6060979624294756), ('ukbench00621.sift', 0.5904437765029024), ('ukbench00015.sift', 0.589625420217025), ('ukbench00493.sift', 0.5883790037787072), ('ukbench00209.sift', 0.5865464152543313), ('ukbench00879.sift', 0.5782430136778557), ('ukbench00310.sift', 0.5711972394287688), ('ukbench00825.sift', 0.5689117365027191)]\n"
     ]
    }
   ],
   "source": [
    "q_img ='dataset_update/ukbench00000.jpg'\n",
    "sift.process_image(q_img,'q_img.sift')\n",
    "\n",
    "l1,d1 = sift.read_features_from_file('q_img.sift')\n",
    "q_img_vector = kmeans.predict(d1)\n",
    "\n",
    "q_vector = [0]*128\n",
    "for num in q_img_vector:\n",
    "    if not(num in stop_word_list):\n",
    "        q_vector[num] = q_vector[num]+1\n",
    "\n",
    "f = open('sift_update_with_stop_word.csv','r')\n",
    "rank = list()\n",
    "for row in csv.reader(f):\n",
    "    distance = vector_distance(q_vector,[int(i) for i in row[1].split(',')])\n",
    "    \n",
    "    if distance == None:\n",
    "        continue\n",
    "        \n",
    "    rank_data = (row[0],distance)\n",
    "    rank.append(rank_data)\n",
    "f.close()\n",
    "\n",
    "rank = sorted(rank,key=lambda rank:rank[1])\n",
    "rank = rank[::-1]\n",
    "print rank[:10]\n",
    "\n"
   ]
  },
  {
   "cell_type": "code",
   "execution_count": null,
   "metadata": {
    "collapsed": true
   },
   "outputs": [],
   "source": []
  }
 ],
 "metadata": {
  "kernelspec": {
   "display_name": "Python 2",
   "language": "python",
   "name": "python2"
  },
  "language_info": {
   "codemirror_mode": {
    "name": "ipython",
    "version": 2
   },
   "file_extension": ".py",
   "mimetype": "text/x-python",
   "name": "python",
   "nbconvert_exporter": "python",
   "pygments_lexer": "ipython2",
   "version": "2.7.11"
  }
 },
 "nbformat": 4,
 "nbformat_minor": 1
}
