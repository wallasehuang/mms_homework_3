{
 "cells": [
  {
   "cell_type": "code",
   "execution_count": 2,
   "metadata": {
    "collapsed": false
   },
   "outputs": [],
   "source": [
    "#multimedia\n",
    "from PIL import Image\n",
    "from matplotlib.pyplot import imshow\n",
    "import numpy as np\n",
    "import os\n",
    "import csv\n",
    "%matplotlib inline"
   ]
  },
  {
   "cell_type": "code",
   "execution_count": 8,
   "metadata": {
    "collapsed": false
   },
   "outputs": [
    {
     "name": "stdout",
     "output_type": "stream",
     "text": [
      "finish\n"
     ]
    }
   ],
   "source": [
    "\n",
    "DATASET = \"dataset_update\"\n",
    "file_data = []\n",
    "color_histogram_data = list()\n",
    "for filename in os.listdir(DATASET):\n",
    "    img = Image.open(DATASET+'/'+filename)\n",
    "    img_row = [filename,','.join(str(i) for i in img.histogram())]\n",
    "    color_histogram_data.append(img_row)\n",
    "\n",
    "    #print img.histogram()\n",
    "    #print \"Loading: %s\" % filename\n",
    "    \n",
    "f = open(\"color_histogram_update.csv\",\"w\")\n",
    "w = csv.writer(f)\n",
    "w.writerows(color_histogram_data)\n",
    "f.close()\n",
    "print 'finish'\n",
    "    \n",
    "\n"
   ]
  },
  {
   "cell_type": "code",
   "execution_count": 6,
   "metadata": {
    "collapsed": false
   },
   "outputs": [
    {
     "name": "stdout",
     "output_type": "stream",
     "text": [
      "0.0\n"
     ]
    }
   ],
   "source": [
    "def euclidean(arr1,arr2):\n",
    "    if len(arr1) != len(arr2):\n",
    "        return None\n",
    "    sum = 0\n",
    "    for i in xrange(len(arr1)):\n",
    "        sum += (arr1[i]-arr2[i])**2\n",
    "    return sum**0.5\n",
    "    \n",
    "print euclidean([1,2,3,4],[1,2,3,4])"
   ]
  },
  {
   "cell_type": "code",
   "execution_count": 7,
   "metadata": {
    "collapsed": false
   },
   "outputs": [
    {
     "name": "stdout",
     "output_type": "stream",
     "text": [
      "[('1.jpg', 0.0), ('849.jpg', 3813.9150488703863), ('138.jpg', 3903.154365381928), ('210.jpg', 4111.252850409471), ('415.jpg', 4160.469685023555), ('851.jpg', 4251.595465234199), ('467.jpg', 4574.181456829188), ('442.jpg', 4924.650241387707), ('612.jpg', 4953.602729327414), ('481.jpg', 4963.909950835127)]\n"
     ]
    }
   ],
   "source": [
    "q_img = Image.open('dataset/1.jpg')\n",
    "q_histogram = q_img.histogram()\n",
    "\n",
    "#print 'query' + str(len(q_histogram))\n",
    "\n",
    "\n",
    "f = open('color_histogram.csv','r')\n",
    "rank = list()\n",
    "\n",
    "for row in csv.reader(f):\n",
    "    #print 'row' + str(len([int(i) for i in row[1].split(',')]))\n",
    "    #count += 1\n",
    "    #print count\n",
    "    distance = euclidean(q_histogram,[int(i) for i in row[1].split(',')])\n",
    "    if distance == None:\n",
    "        continue\n",
    "    rank_row = (row[0],distance)\n",
    "    rank.append(rank_row)\n",
    "f.close()\n",
    "\n",
    "#print rank\n",
    "rank = sorted(rank,key=lambda rank:rank[1])\n",
    "print rank[0:10]"
   ]
  },
  {
   "cell_type": "code",
   "execution_count": null,
   "metadata": {
    "collapsed": true
   },
   "outputs": [],
   "source": []
  }
 ],
 "metadata": {
  "kernelspec": {
   "display_name": "Python 2",
   "language": "python",
   "name": "python2"
  },
  "language_info": {
   "codemirror_mode": {
    "name": "ipython",
    "version": 2
   },
   "file_extension": ".py",
   "mimetype": "text/x-python",
   "name": "python",
   "nbconvert_exporter": "python",
   "pygments_lexer": "ipython2",
   "version": "2.7.11"
  }
 },
 "nbformat": 4,
 "nbformat_minor": 1
}
